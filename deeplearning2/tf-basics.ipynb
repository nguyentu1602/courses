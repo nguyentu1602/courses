{
 "cells": [
  {
   "cell_type": "code",
   "execution_count": 1,
   "metadata": {
    "scrolled": false
   },
   "outputs": [
    {
     "name": "stderr",
     "output_type": "stream",
     "text": [
      "/home/nguyentu/anaconda3/envs/py27_tf_cv/lib/python2.7/site-packages/h5py/__init__.py:36: FutureWarning: Conversion of the second argument of issubdtype from `float` to `np.floating` is deprecated. In future, it will be treated as `np.float64 == np.dtype(float).type`.\n",
      "  from ._conv import register_converters as _register_converters\n",
      "Using TensorFlow backend.\n"
     ]
    }
   ],
   "source": [
    "%matplotlib inline\n",
    "import utils2; reload(utils2)\n",
    "import importlib\n",
    "from utils2 import *"
   ]
  },
  {
   "cell_type": "code",
   "execution_count": 2,
   "metadata": {},
   "outputs": [],
   "source": [
    "cfg = tf.ConfigProto()\n",
    "cfg.gpu_options.allow_growth = True\n",
    "sess = tf.Session(config=cfg)\n"
   ]
  },
  {
   "cell_type": "code",
   "execution_count": 3,
   "metadata": {},
   "outputs": [
    {
     "name": "stdout",
     "output_type": "stream",
     "text": [
      "9.0\n",
      "()\n"
     ]
    }
   ],
   "source": [
    "a = tf.placeholder(\"float\")\n",
    "b = tf.placeholder(\"float\")\n",
    "y = tf.multiply(a, b)\n",
    "\n",
    "print (sess.run(y, feed_dict={a: 3, b: 3}))\n",
    "print ()"
   ]
  },
  {
   "cell_type": "markdown",
   "metadata": {},
   "source": [
    "## Simple regression"
   ]
  },
  {
   "cell_type": "code",
   "execution_count": 4,
   "metadata": {},
   "outputs": [],
   "source": [
    "num_points = 1000\n",
    "x_data= np.random.normal(0.0, 0.55, (num_points,))\n",
    "y_data= x_data * 0.1 + 0.3 + np.random.normal(0.0, 0.03, (num_points,))"
   ]
  },
  {
   "cell_type": "code",
   "execution_count": 5,
   "metadata": {},
   "outputs": [
    {
     "data": {
      "image/png": "[encoded data removed]",
      "text/plain": [
       "<Figure size 432x288 with 1 Axes>"
      ]
     },
     "metadata": {},
     "output_type": "display_data"
    }
   ],
   "source": [
    "plt.scatter(x_data, y_data);"
   ]
  },
  {
   "cell_type": "code",
   "execution_count": 8,
   "metadata": {},
   "outputs": [],
   "source": [
    "# - Adapted from the original code in order to have a working example \n",
    "x = tf.placeholder(\"float32\")\n",
    "y = tf.placeholder(\"float32\")\n",
    "W = tf.Variable(np.random.randn())\n",
    "b = tf.Variable(np.random.randn())\n",
    "y_pred = tf.add(tf.multiply(x, W), b)\n",
    "\n",
    "loss = tf.reduce_mean(tf.square(y_pred - y))\n",
    "optimizer = tf.train.GradientDescentOptimizer(0.5)\n",
    "train = optimizer.minimize(loss)"
   ]
  },
  {
   "cell_type": "code",
   "execution_count": 9,
   "metadata": {},
   "outputs": [],
   "source": [
    "init = tf.global_variables_initializer()"
   ]
  },
  {
   "cell_type": "code",
   "execution_count": 10,
   "metadata": {},
   "outputs": [],
   "source": [
    "sess = tf.InteractiveSession(config=cfg)"
   ]
  },
  {
   "cell_type": "code",
   "execution_count": 12,
   "metadata": {},
   "outputs": [
    {
     "name": "stdout",
     "output_type": "stream",
     "text": [
      "(0, 0.27655345, 0.29804927)\n",
      "(1, 0.22512193, 0.29862627)\n",
      "(2, 0.18872313, 0.29914504)\n",
      "(3, 0.1629621, 0.29951218)\n",
      "(4, 0.14472987, 0.29977202)\n",
      "(5, 0.1318261, 0.2999559)\n",
      "(6, 0.12269354, 0.30008608)\n",
      "(7, 0.11623002, 0.3001782)\n"
     ]
    }
   ],
   "source": [
    "init.run()\n",
    "for step in range(8):\n",
    "    train.run(feed_dict = {x:x_data, y:y_data}, session=sess)\n",
    "    print (step, W.eval(), b.eval())"
   ]
  },
  {
   "cell_type": "code",
   "execution_count": 13,
   "metadata": {
    "scrolled": true
   },
   "outputs": [
    {
     "data": {
      "image/png": "[encoded data removed]",
      "text/plain": [
       "<Figure size 432x288 with 1 Axes>"
      ]
     },
     "metadata": {},
     "output_type": "display_data"
    }
   ],
   "source": [
    "plt.scatter(x_data, y_data)\n",
    "plt.plot(x_data, W.eval() * x_data + b.eval());"
   ]
  },
  {
   "cell_type": "markdown",
   "metadata": {
    "heading_collapsed": true
   },
   "source": [
    "## Variable scope"
   ]
  },
  {
   "cell_type": "code",
   "execution_count": 14,
   "metadata": {
    "hidden": true
   },
   "outputs": [],
   "source": [
    "tf.reset_default_graph()"
   ]
  },
  {
   "cell_type": "code",
   "execution_count": 15,
   "metadata": {
    "hidden": true
   },
   "outputs": [
    {
     "data": {
      "text/plain": [
       "u'foo/v:0'"
      ]
     },
     "execution_count": 15,
     "metadata": {},
     "output_type": "execute_result"
    }
   ],
   "source": [
    "with tf.variable_scope(\"foo\"):\n",
    "    v = tf.get_variable(\"v\", [2,3])\n",
    "v.name"
   ]
  },
  {
   "cell_type": "code",
   "execution_count": 16,
   "metadata": {
    "hidden": true
   },
   "outputs": [
    {
     "data": {
      "text/plain": [
       "TensorShape([Dimension(2), Dimension(3)])"
      ]
     },
     "execution_count": 16,
     "metadata": {},
     "output_type": "execute_result"
    }
   ],
   "source": [
    "v.get_shape()"
   ]
  },
  {
   "cell_type": "code",
   "execution_count": 17,
   "metadata": {
    "hidden": true
   },
   "outputs": [],
   "source": [
    "with tf.variable_scope(\"foo\", reuse=True):\n",
    " v1 = tf.get_variable(\"v\", [2,3])"
   ]
  },
  {
   "cell_type": "code",
   "execution_count": 18,
   "metadata": {
    "hidden": true
   },
   "outputs": [
    {
     "data": {
      "text/plain": [
       "True"
      ]
     },
     "execution_count": 18,
     "metadata": {},
     "output_type": "execute_result"
    }
   ],
   "source": [
    "v1==v"
   ]
  },
  {
   "cell_type": "code",
   "execution_count": 19,
   "metadata": {
    "hidden": true
   },
   "outputs": [],
   "source": [
    "v2 = tf.get_variable(\"v2\", [1])"
   ]
  },
  {
   "cell_type": "code",
   "execution_count": 20,
   "metadata": {
    "hidden": true
   },
   "outputs": [
    {
     "data": {
      "text/plain": [
       "u'v2:0'"
      ]
     },
     "execution_count": 20,
     "metadata": {},
     "output_type": "execute_result"
    }
   ],
   "source": [
    "v2.name"
   ]
  },
  {
   "cell_type": "markdown",
   "metadata": {
    "heading_collapsed": true
   },
   "source": [
    "## K-means clustering"
   ]
  },
  {
   "cell_type": "code",
   "execution_count": 21,
   "metadata": {
    "hidden": true
   },
   "outputs": [],
   "source": [
    "def plot_data(data, centroids):\n",
    "    colour = plt.cm.rainbow(np.linspace(0,1,len(centroids)))\n",
    "    for i, centroid in enumerate(centroids):\n",
    "        samples = data[i*n_samples:(i+1)*n_samples]\n",
    "        plt.scatter(samples[:,0], samples[:,1], c=colour[i])\n",
    "        plt.plot(centroid[0], centroid[1], markersize=15, marker=\"x\", color='k', mew=10)\n",
    "        plt.plot(centroid[0], centroid[1], markersize=10, marker=\"x\", color='m', mew=5)\n",
    "    plt.show()"
   ]
  },
  {
   "cell_type": "code",
   "execution_count": 22,
   "metadata": {
    "hidden": true
   },
   "outputs": [],
   "source": [
    "n_clusters=10\n",
    "n_samples =250\n",
    "centroids = np.random.uniform(-35, 35, (n_clusters, 2))\n",
    "slices = [np.random.multivariate_normal(centroids[i], np.diag([5., 5.]), n_samples)\n",
    "           for i in range(n_clusters)]\n",
    "data = np.concatenate(slices).astype(np.float32)"
   ]
  },
  {
   "cell_type": "code",
   "execution_count": 23,
   "metadata": {
    "hidden": true
   },
   "outputs": [
    {
     "data": {
      "image/png": "[encoded data removed]",
      "text/plain": [
       "<Figure size 432x288 with 1 Axes>"
      ]
     },
     "metadata": {},
     "output_type": "display_data"
    }
   ],
   "source": [
    "plot_data(data, centroids)"
   ]
  },
  {
   "cell_type": "code",
   "execution_count": 34,
   "metadata": {
    "hidden": true
   },
   "outputs": [],
   "source": [
    "# Numpy Version\n",
    "def find_initial_centroids_numpy(data, k):\n",
    "    r_index = np.random.randint(data.shape[0])\n",
    "    r = data[r_index, :][np.newaxis]\n",
    "    initial_centroids = []\n",
    "    for i in range(k):\n",
    "        diff = data - np.expand_dims(r,1)\n",
    "        dist = np.linalg.norm(diff, axis=2)  # 100x2  5x2 --> 100x5x2 --> 100x5\n",
    "        farthest_index = np.argmax(np.min(dist, axis=0))\n",
    "        farthest_point = data[farthest_index]\n",
    "        initial_centroids.append(farthest_point)\n",
    "        r = np.array(initial_centroids)\n",
    "    return r"
   ]
  },
  {
   "cell_type": "code",
   "execution_count": 35,
   "metadata": {
    "hidden": true
   },
   "outputs": [],
   "source": [
    "def find_initial_centroids(data, k):\n",
    "    r_index = tf.random_uniform([1], 0, tf.shape(data)[0], dtype=tf.int32)\n",
    "    r = tf.expand_dims(data[tf.squeeze(r_index)], dim=1)\n",
    "    initial_centroids = []\n",
    "    for i in range(k):\n",
    "        diff = tf.squared_difference(tf.expand_dims(data, 0), tf.expand_dims(r,1))\n",
    "        dist = tf.reduce_sum(diff, axis=2)\n",
    "        farthest_index = tf.argmax(tf.reduce_min(dist, axis=0), 0)\n",
    "        farthest_point = data[tf.to_int32(farthest_index)]\n",
    "        initial_centroids.append(farthest_point)\n",
    "#         r = tf.pack(initial_centroids)  # - tf.pack obsolete \n",
    "        r = tf.stack(initial_centroids)\n",
    "    return r"
   ]
  },
  {
   "cell_type": "code",
   "execution_count": 38,
   "metadata": {
    "hidden": true
   },
   "outputs": [],
   "source": [
    "samples = tf.placeholder(tf.float32, (None, None))"
   ]
  },
  {
   "cell_type": "code",
   "execution_count": 39,
   "metadata": {},
   "outputs": [],
   "source": [
    "# - added this cell to initialize the graph\n",
    "sess = tf.InteractiveSession()\n",
    "tf.global_variables_initializer().run()"
   ]
  },
  {
   "cell_type": "code",
   "execution_count": 40,
   "metadata": {
    "hidden": true
   },
   "outputs": [],
   "source": [
    "initial_centroids = find_initial_centroids(samples, n_clusters).eval({samples: data})"
   ]
  },
  {
   "cell_type": "code",
   "execution_count": 41,
   "metadata": {
    "hidden": true
   },
   "outputs": [],
   "source": [
    "def choose_random_centroids(samples, n_clusters):\n",
    "    n_samples = tf.shape(samples)[0]\n",
    "    random_indices = tf.random_shuffle(tf.range(0, n_samples))\n",
    "    centroid_indices = random_indices[:n_clusters]\n",
    "    return tf.gather(samples, centroid_indices)"
   ]
  },
  {
   "cell_type": "code",
   "execution_count": 42,
   "metadata": {
    "hidden": true
   },
   "outputs": [],
   "source": [
    "initial_centroids = find_initial_centroids_numpy(data, n_clusters)"
   ]
  },
  {
   "cell_type": "code",
   "execution_count": 43,
   "metadata": {
    "hidden": true
   },
   "outputs": [
    {
     "data": {
      "image/png": "[encoded data removed]",
      "text/plain": [
       "<Figure size 432x288 with 1 Axes>"
      ]
     },
     "metadata": {},
     "output_type": "display_data"
    }
   ],
   "source": [
    "plot_data(data, initial_centroids)"
   ]
  },
  {
   "cell_type": "code",
   "execution_count": 44,
   "metadata": {
    "hidden": true
   },
   "outputs": [],
   "source": [
    "def assign_to_nearest(samples, centroids):\n",
    "    dim_dists = tf.squared_difference(tf.expand_dims(samples, 0), tf.expand_dims(centroids, 1))\n",
    "    return tf.argmin(tf.reduce_sum(dim_dists , 2), 0)"
   ]
  },
  {
   "cell_type": "code",
   "execution_count": 49,
   "metadata": {
    "hidden": true
   },
   "outputs": [],
   "source": [
    "def update_centroids(samples, nearest_indices, n_clusters):\n",
    "    partitions = tf.dynamic_partition(samples, tf.to_int32(nearest_indices), n_clusters)\n",
    "#     return tf.concat(0, [tf.expand_dims(tf.reduce_mean(partition, 0), 0) \n",
    "#                                   for partition in partitions])\n",
    "    return tf.concat([tf.expand_dims(tf.reduce_mean(partition, 0), 0)  # tf.concat(values, axis) \n",
    "                                  for partition in partitions], 0)\n"
   ]
  },
  {
   "cell_type": "code",
   "execution_count": 50,
   "metadata": {
    "hidden": true
   },
   "outputs": [],
   "source": [
    "initial_centroids = choose_random_centroids(samples, n_clusters).eval({samples: data})"
   ]
  },
  {
   "cell_type": "code",
   "execution_count": 51,
   "metadata": {
    "hidden": true
   },
   "outputs": [],
   "source": [
    "curr_centroids = tf.Variable(initial_centroids)"
   ]
  },
  {
   "cell_type": "code",
   "execution_count": 52,
   "metadata": {
    "hidden": true
   },
   "outputs": [],
   "source": [
    "nearest_indices = assign_to_nearest(samples, curr_centroids)\n",
    "updated_centroids = update_centroids(samples, nearest_indices, n_clusters)"
   ]
  },
  {
   "cell_type": "code",
   "execution_count": 53,
   "metadata": {
    "hidden": true
   },
   "outputs": [],
   "source": [
    "tf.global_variables_initializer().run()"
   ]
  },
  {
   "cell_type": "code",
   "execution_count": 54,
   "metadata": {
    "hidden": true,
    "scrolled": true
   },
   "outputs": [],
   "source": [
    "c = initial_centroids\n",
    "for i in range(10):\n",
    "    #TODO animate\n",
    "    c2 = curr_centroids.assign(updated_centroids).eval({samples: data})\n",
    "    if np.allclose(c,c2):\n",
    "        break\n",
    "    c=c2"
   ]
  },
  {
   "cell_type": "code",
   "execution_count": 55,
   "metadata": {
    "hidden": true
   },
   "outputs": [
    {
     "data": {
      "image/png": "[encoded data removed]",
      "text/plain": [
       "<Figure size 432x288 with 1 Axes>"
      ]
     },
     "metadata": {},
     "output_type": "display_data"
    }
   ],
   "source": [
    "plot_data(data, curr_centroids.eval())"
   ]
  },
  {
   "cell_type": "markdown",
   "metadata": {
    "heading_collapsed": true
   },
   "source": [
    "## Tf->Keras LR (working?)"
   ]
  },
  {
   "cell_type": "code",
   "execution_count": 61,
   "metadata": {
    "hidden": true
   },
   "outputs": [],
   "source": [
    "# class LinRegr(Layer):\n",
    "#     def __init__(self, **kwargs):\n",
    "#         super(LinRegr, self).__init__(**kwargs)\n",
    "\n",
    "#     def build(self, input_shape):\n",
    "#         input_dims = input_shape[1:]\n",
    "#         self.W = tf.Variable(tf.random_uniform([1], -1.0, 1.0))\n",
    "#         self.b = tf.Variable(tf.zeros([1]))\n",
    "#         self.built = True\n",
    "\n",
    "#     def call(self, x, mask=None):\n",
    "#         return self.W * x + self.b\n",
    "    \n",
    "#     def get_output_shape_for(self, input_shape):\n",
    "#         return input_shape\n",
    "# - Keras 2\n",
    "class LinRegr(Layer):\n",
    "    def __init__(self, **kwargs):\n",
    "        super(LinRegr, self).__init__(**kwargs)\n",
    "\n",
    "    def build(self, input_shape):\n",
    "        input_dims = input_shape[1:]\n",
    "        self.W = tf.Variable(tf.random_uniform([1], -1.0, 1.0))\n",
    "        self.b = tf.Variable(tf.zeros([1]))\n",
    "        self.trainable_weights=[self.W, self.b]  # - Without this line there would be no trainable parameters\n",
    "        super(LinRegr, self).build(input_shape)  # - Could be just \"self.built = True\" \n",
    "\n",
    "    def call(self, x, mask=None):\n",
    "        return self.W * x + self.b\n",
    "    \n",
    "    def compute_output_shape(self, input_shape):\n",
    "        return input_shape"
   ]
  },
  {
   "cell_type": "code",
   "execution_count": 62,
   "metadata": {
    "hidden": true
   },
   "outputs": [],
   "source": [
    "inp = Input((1,))\n",
    "res = LinRegr()(inp)"
   ]
  },
  {
   "cell_type": "code",
   "execution_count": 63,
   "metadata": {
    "hidden": true
   },
   "outputs": [],
   "source": [
    "model = Model(inp, res)"
   ]
  },
  {
   "cell_type": "code",
   "execution_count": 64,
   "metadata": {
    "hidden": true
   },
   "outputs": [],
   "source": [
    "model.compile('adam', 'mse')"
   ]
  },
  {
   "cell_type": "code",
   "execution_count": 67,
   "metadata": {
    "hidden": true
   },
   "outputs": [
    {
     "name": "stdout",
     "output_type": "stream",
     "text": [
      "Epoch 1/20\n",
      " - 0s - loss: 0.0035\n",
      "Epoch 2/20\n",
      " - 0s - loss: 0.0026\n",
      "Epoch 3/20\n",
      " - 0s - loss: 0.0020\n",
      "Epoch 4/20\n",
      " - 0s - loss: 0.0016\n",
      "Epoch 5/20\n",
      " - 0s - loss: 0.0013\n",
      "Epoch 6/20\n",
      " - 0s - loss: 0.0011\n",
      "Epoch 7/20\n",
      " - 0s - loss: 0.0010\n",
      "Epoch 8/20\n",
      " - 0s - loss: 9.6459e-04\n",
      "Epoch 9/20\n",
      " - 0s - loss: 9.2781e-04\n",
      "Epoch 10/20\n",
      " - 0s - loss: 9.0815e-04\n",
      "Epoch 11/20\n",
      " - 0s - loss: 8.9816e-04\n",
      "Epoch 12/20\n",
      " - 0s - loss: 8.9205e-04\n",
      "Epoch 13/20\n",
      " - 0s - loss: 8.8963e-04\n",
      "Epoch 14/20\n",
      " - 0s - loss: 8.8715e-04\n",
      "Epoch 15/20\n",
      " - 0s - loss: 8.8631e-04\n",
      "Epoch 16/20\n",
      " - 0s - loss: 8.8566e-04\n",
      "Epoch 17/20\n",
      " - 0s - loss: 8.8633e-04\n",
      "Epoch 18/20\n",
      " - 0s - loss: 8.8562e-04\n",
      "Epoch 19/20\n",
      " - 0s - loss: 8.8514e-04\n",
      "Epoch 20/20\n",
      " - 0s - loss: 8.8560e-04\n"
     ]
    },
    {
     "data": {
      "text/plain": [
       "<keras.callbacks.History at 0x7f02ec269d50>"
      ]
     },
     "execution_count": 67,
     "metadata": {},
     "output_type": "execute_result"
    }
   ],
   "source": [
    "model.fit(x_data, y_data, verbose=2, epochs=20)"
   ]
  },
  {
   "cell_type": "code",
   "execution_count": null,
   "metadata": {},
   "outputs": [],
   "source": []
  }
 ],
 "metadata": {
  "anaconda-cloud": {},
  "kernelspec": {
   "display_name": "Python 2",
   "language": "python",
   "name": "python2"
  },
  "language_info": {
   "codemirror_mode": {
    "name": "ipython",
    "version": 2
   },
   "file_extension": ".py",
   "mimetype": "text/x-python",
   "name": "python",
   "nbconvert_exporter": "python",
   "pygments_lexer": "ipython2",
   "version": "2.7.14"
  }
 },
 "nbformat": 4,
 "nbformat_minor": 2
}
